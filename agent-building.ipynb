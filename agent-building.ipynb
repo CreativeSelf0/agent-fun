{
 "cells": [
  {
   "cell_type": "code",
   "execution_count": 1,
   "id": "edae1b8f-1d20-4567-8fee-67ca006ab5a5",
   "metadata": {},
   "outputs": [],
   "source": [
    "import numpy as np\n",
    "import pandas as pd\n",
    "import matplotlib.pyplot as plt\n",
    "from pprint import pprint\n",
    "plt.style.use('dark_background')\n"
   ]
  },
  {
   "cell_type": "markdown",
   "id": "abc2a8a1-de09-4eea-a09e-4923123538af",
   "metadata": {},
   "source": [
    "### Grid Building"
   ]
  },
  {
   "cell_type": "code",
   "execution_count": 2,
   "id": "83421218-350b-46f9-aca5-570f10131055",
   "metadata": {},
   "outputs": [],
   "source": [
    "class Grid(object):\n",
    "    def __init__(self, size):\n",
    "        self.size = size\n",
    "        self.grid = np.zeros((size, size), dtype=np.uint8)\n",
    "        self.start_state = (0,0)\n",
    "        self.goal_state = (size - 1, size - 1)\n",
    "        self.grid[self.start_state[0]][self.start_state[1]] = 1\n",
    "        \n",
    "    \n",
    "    def __str__(self):\n",
    "        self.state = f\"\"\" Map State: \\n {self.grid}\n",
    "        \"\"\"\n",
    "        return self.state\n",
    "    \n",
    "    def __len__(self):\n",
    "        return self.size\n",
    "    \n",
    "    def update_grid(self, position: tuple):\n",
    "        if not self.is_allowed_action(position):\n",
    "            return False\n",
    "        else:\n",
    "            x,y = position\n",
    "            #count number of times in actions was taken. \n",
    "            self.grid[x][y] += 1\n",
    "            return True\n",
    "    \n",
    "        \n",
    "    def is_allowed_action(self,position: tuple):\n",
    "        x, y = position\n",
    "        return (x >= 0 and x < self.size) and (y >= 0 and y < self.size)\n",
    "    "
   ]
  },
  {
   "cell_type": "markdown",
   "id": "c7359a62-8537-476b-a8a1-86e06524fbb6",
   "metadata": {},
   "source": [
    "### Agent Building"
   ]
  },
  {
   "cell_type": "code",
   "execution_count": 3,
   "id": "c28d66b2-cdd9-406e-8dde-a857fb35524b",
   "metadata": {},
   "outputs": [],
   "source": [
    "class Agent(object):\n",
    "    def __init__(self, current_state : Grid):\n",
    "        self.current_state = current_state\n",
    "        self.start_state = current_state.start_state\n",
    "        self.goal_state = current_state.goal_state\n",
    "        self.current_position = self.start_state\n",
    "        #num_actions till goal.\n",
    "        self.num_actions = 0\n",
    "        self.logger = Logger()\n",
    "    \n",
    "    def __len__(self):\n",
    "        \"\"\"\n",
    "        returns number of actions agent took until goal_state enviroment\n",
    "        \"\"\"\n",
    "        return self.num_actions\n",
    "    \n",
    "    def __str__(self):\n",
    "        \"\"\"\n",
    "        returns agents current enviroment\n",
    "        \"\"\"\n",
    "        return str(self.current_state)\n",
    "    \n",
    "    def step(self, position: tuple):\n",
    "        \"\"\"\n",
    "        returns True if it was sucessful move\n",
    "        \"\"\"\n",
    "        if self.current_state.update_grid(position):\n",
    "            self.current_position = position\n",
    "            self.logger.add_move(position)\n",
    "            return True\n",
    "        else:\n",
    "            return False\n",
    "            "
   ]
  },
  {
   "cell_type": "markdown",
   "id": "adf8b2ed-b5b4-4ab6-8b35-c89ffd475ffa",
   "metadata": {},
   "source": [
    "### Logger "
   ]
  },
  {
   "cell_type": "code",
   "execution_count": 4,
   "id": "7e2de42c-6e82-4010-b87b-5d82bdaf5313",
   "metadata": {},
   "outputs": [],
   "source": [
    "class Logger(object):\n",
    "    def __init__(self):\n",
    "        self.sequence_moves = []\n",
    "        self.final_state = []\n",
    "        \n",
    "    def add_move(self, move: tuple):\n",
    "        self.sequence_moves.append(move)\n",
    "        \n",
    "    def set_final_state(self, final_state: list[tuple]):\n",
    "        self.final_state = final_state\n",
    "        \n",
    "    def get_log(self):\n",
    "        return (self.final_state, np.array(self.sequence_moves))\n"
   ]
  },
  {
   "cell_type": "markdown",
   "id": "38798dfb-c7aa-44c9-ba3c-28d1d8dfba74",
   "metadata": {},
   "source": [
    "### Algorithm Structure"
   ]
  },
  {
   "cell_type": "code",
   "execution_count": 5,
   "id": "979fe3bf-1cbd-4dce-8f82-4e327239aaae",
   "metadata": {
    "tags": []
   },
   "outputs": [],
   "source": [
    "class Algorithm(object):\n",
    "    def __init__(self, agent : Agent):\n",
    "        self.agent = agent\n",
    "        self.algorithm_name = self.__class__.__name__\n",
    "    def is_goal_state(self, position: tuple):\n",
    "        if (position[0] == self.agent.goal_state[0] and position[1] == self.agent.goal_state[1]):\n",
    "            self.agent.logger.set_final_state(self.agent.current_state)\n",
    "            return True\n",
    "        return False\n",
    "            \n",
    "    def get_possible_moves(self, position: tuple):\n",
    "        x, y = position\n",
    "        moves = []\n",
    "        for i in range(2):\n",
    "            for j in [-1,1]:\n",
    "                if i == 0 and self.agent.current_state.is_allowed_action((x + j, y)):\n",
    "                    moves.append((x + j, y))\n",
    "                elif i == 1 and self.agent.current_state.is_allowed_action((x, y + j)):\n",
    "                    moves.append((x, y + j))\n",
    "                    \n",
    "        return np.array(moves)\n",
    "    \n",
    "    def run(self):\n",
    "        pass\n",
    "    \n",
    "    def print_message(self):\n",
    "        pprint(\"Congratz you just won! \")\n",
    "        pprint(\"Number of Moves: \" + str(len(self.agent)))\n",
    "        print(self.agent.current_state)"
   ]
  },
  {
   "cell_type": "markdown",
   "id": "65fa0519-a65a-41cf-b4f6-85db4ee0d30a",
   "metadata": {},
   "source": [
    "### Naive Algorithim "
   ]
  },
  {
   "cell_type": "code",
   "execution_count": 6,
   "id": "b89e9b02-4b0d-4637-8090-43e683774a6e",
   "metadata": {
    "tags": []
   },
   "outputs": [],
   "source": [
    "import heapq\n",
    "class Naive(Algorithm):\n",
    "    def run(self):\n",
    "        while not self.is_goal_state(self.agent.current_position):\n",
    "            position = self.agent.current_position\n",
    "            list_actions = self.get_possible_moves(position)\n",
    "            move = list_actions[np.random.choice([i for i in range(len(list_actions))], size=1), :]\n",
    "            if self.agent.step(move[0]):\n",
    "                self.agent.num_actions += 1\n",
    "            #print(self.agent.current_state)\n",
    "                \n",
    "        self.print_message()\n",
    "    "
   ]
  },
  {
   "cell_type": "markdown",
   "id": "a987fe17-0f62-4ee6-a984-c8b83802e3ac",
   "metadata": {
    "tags": []
   },
   "source": [
    "### Priority Queue Algorithm using Manhattan Distance "
   ]
  },
  {
   "cell_type": "code",
   "execution_count": 7,
   "id": "371da695-9587-4935-9f2b-8ec947ece5f7",
   "metadata": {
    "tags": []
   },
   "outputs": [],
   "source": [
    "import heapq\n",
    "class Heap(Algorithm):\n",
    "    \n",
    "    def __init__(self, agent : Agent):\n",
    "        super().__init__(agent)\n",
    "        self.distance_map = {}\n",
    "        self.distance_traveled_map = {}\n",
    "        pos = self.agent.start_state\n",
    "        self.distance_map[pos] = self.man_dist(pos)\n",
    "        \n",
    "    def run(self):\n",
    "        while not self.is_goal_state(self.agent.current_position):\n",
    "            position = self.agent.current_position\n",
    "            list_actions = self.get_possible_moves(position)\n",
    "            delta = np.array([(self.man_dist(list_actions[i]), i) for i in range(len(list_actions))])\n",
    "            moves = delta[delta[:, 0].argsort()]\n",
    "            move_index = moves[0][1]\n",
    "            move = list_actions[int(move_index),  :]\n",
    "            if self.agent.step(move):\n",
    "                self.agent.num_actions += 1\n",
    "        self.print_message()\n",
    "        \n",
    "    def man_dist(self, pos):\n",
    "        x, y = pos\n",
    "        pos = (x,y)\n",
    "        if pos in self.distance_map.keys():\n",
    "            self.distance_traveled_map[pos] += self.distance_map[pos] \n",
    "        else:\n",
    "            self.distance_traveled_map[pos] = np.sqrt((np.array(self.agent.goal_state) - np.array(pos))**2 @ np.array([1.0,1.0])) \n",
    "            self.distance_map[pos] = self.distance_traveled_map[pos]\n",
    "        \n",
    "        return self.distance_traveled_map[pos]"
   ]
  },
  {
   "cell_type": "markdown",
   "id": "21aab8b6-d235-4519-adb8-02884a5d8237",
   "metadata": {},
   "source": [
    "### Algorthims Factory"
   ]
  },
  {
   "cell_type": "code",
   "execution_count": 8,
   "id": "0ee08bff-27d3-474a-ae44-6bc36f9913cf",
   "metadata": {
    "tags": []
   },
   "outputs": [],
   "source": [
    "from enum import Enum\n",
    "class Algorthims(Enum):\n",
    "    naive = 'naive'\n",
    "    heap = 'heap'\n",
    "    \n",
    "class AlgorithmFactory(object):\n",
    "    def __init__(self, agent : Agent):\n",
    "        self.agent = agent\n",
    "    def get_instance(self, algorthimType : Algorthims):\n",
    "        if algorthimType == Algorthims.naive:\n",
    "            return Naive(self.agent)\n",
    "        else:\n",
    "            return Heap(self.agent)"
   ]
  },
  {
   "cell_type": "markdown",
   "id": "869e2140-14bd-4e55-8677-652ee97c37b6",
   "metadata": {
    "tags": []
   },
   "source": [
    "### Simulation:"
   ]
  },
  {
   "cell_type": "code",
   "execution_count": 9,
   "id": "8513d62d-a99c-47bd-adde-8e3acd23d0bf",
   "metadata": {
    "tags": []
   },
   "outputs": [],
   "source": [
    "def simulate_experiment(grid_size : int, plot_sequence_moves=True):\n",
    "    current_state_s = Grid(grid_size)\n",
    "    current_state_r = Grid(grid_size)\n",
    "    smart_agent = Agent(current_state_s)\n",
    "    random_agent = Agent(current_state_r)\n",
    "\n",
    "    naive = AlgorithmFactory(random_agent).get_instance(Algorthims.naive)\n",
    "    heap = AlgorithmFactory(smart_agent).get_instance(Algorthims.heap)\n",
    "\n",
    "\n",
    "    algorthims_list = [naive, heap]\n",
    "\n",
    "    run_experiemnt(algorthims_list, plot_sequence_moves)\n",
    "    "
   ]
  },
  {
   "cell_type": "markdown",
   "id": "1e12044a-4d60-4915-b8cf-bdedca563b8c",
   "metadata": {},
   "source": [
    "#### Running Experiment"
   ]
  },
  {
   "cell_type": "code",
   "execution_count": 10,
   "id": "d57f3414-5081-4c57-b050-dab301d8690d",
   "metadata": {
    "tags": []
   },
   "outputs": [],
   "source": [
    "def run_experiemnt(algorthims_list : list[Algorithm], plot_sequence_moves=True):\n",
    "    for algorthim in algorthims_list:\n",
    "        algorthim.run()\n",
    "    plot_save_fig(algorthims_list)\n",
    "    \n",
    "    if plot_sequence_moves:\n",
    "        plot_moves(algorthims_list)"
   ]
  },
  {
   "cell_type": "markdown",
   "id": "5a6bd628-df69-4b6f-a3db-6fbc48fa4724",
   "metadata": {},
   "source": [
    "#### Printing and Saving Heatmap"
   ]
  },
  {
   "cell_type": "code",
   "execution_count": 11,
   "id": "a902408f-71b7-4ae1-9abc-75a289a9d116",
   "metadata": {
    "tags": []
   },
   "outputs": [],
   "source": [
    "def plot_save_fig(algorthims_list : list[Algorithm]):\n",
    "    for algorthim in algorthims_list:\n",
    "        fig, ax = plt.subplots()\n",
    "        im = ax.imshow(algorthim.agent.current_state.grid)\n",
    "        ax.set_title(f\"{algorthim.algorithm_name} -- Heatmap\")\n",
    "        plt.savefig(f\"images/{algorthim.algorithm_name}.jpg\")\n",
    "        plt.show()\n",
    "        "
   ]
  },
  {
   "cell_type": "markdown",
   "id": "b9eb05be-cfa2-4fcb-95ae-1bb334750861",
   "metadata": {},
   "source": [
    "#### Plotting Sequence Moves "
   ]
  },
  {
   "cell_type": "code",
   "execution_count": 12,
   "id": "a255c207-8c40-4f8d-84de-446aee528e6f",
   "metadata": {},
   "outputs": [],
   "source": [
    "def plot_moves(algorthims_list : list[Algorithm]):\n",
    "    for algorthim in algorthims_list:\n",
    "        V = algorthim.agent.logger.get_log()[1]\n",
    "        origin = np.array([[0] * V.shape[0] ,[0] * V.shape[0]]) # origin point\n",
    "        if algorthim.algorithm_name == 'Naive':\n",
    "            plt.quiver(*origin, V[:,0], V[:,1] , scale = 4 ,color = ['b'])\n",
    "        else:\n",
    "            plt.quiver(*origin, V[:,0], V[:,1] ,scale = 4 ,color = ['g'])\n",
    "        plt.suptitle(algorthim.algorithm_name, fontsize=  15)\n",
    "        plt.grid(color = 'pink')\n",
    "        plt.xlabel('x-axis')\n",
    "        plt.ylabel('y-axis')\n",
    "        #start state\n",
    "        plt.scatter(*(algorthim.agent.start_state), color='white', linewidths=5)\n",
    "        #goal state\n",
    "        plt.scatter(*(algorthim.agent.goal_state), color='yellow', linewidths=5)\n",
    "        plt.show()"
   ]
  },
  {
   "cell_type": "code",
   "execution_count": 13,
   "id": "f8b8794a-56b1-4aca-8135-6b14f273f464",
   "metadata": {},
   "outputs": [
    {
     "name": "stdout",
     "output_type": "stream",
     "text": [
      "'Congratz you just won! '\n",
      "'Number of Moves: 12'\n",
      " Map State: \n",
      " [[2 1 1 0 0]\n",
      " [1 0 1 1 1]\n",
      " [0 0 0 0 2]\n",
      " [0 0 0 0 2]\n",
      " [0 0 0 0 1]]\n",
      "        \n",
      "'Congratz you just won! '\n",
      "'Number of Moves: 8'\n",
      " Map State: \n",
      " [[1 0 0 0 0]\n",
      " [1 1 0 0 0]\n",
      " [0 1 1 0 0]\n",
      " [0 0 1 1 0]\n",
      " [0 0 0 1 1]]\n",
      "        \n"
     ]
    },
    {
     "data": {
      "image/png": "[encoded data removed]",
      "text/plain": [
       "<Figure size 432x288 with 1 Axes>"
      ]
     },
     "metadata": {},
     "output_type": "display_data"
    },
    {
     "data": {
      "image/png": "[encoded data removed]",
      "text/plain": [
       "<Figure size 432x288 with 1 Axes>"
      ]
     },
     "metadata": {},
     "output_type": "display_data"
    },
    {
     "data": {
      "image/png": "[encoded data removed]",
      "text/plain": [
       "<Figure size 432x288 with 1 Axes>"
      ]
     },
     "metadata": {},
     "output_type": "display_data"
    },
    {
     "data": {
      "image/png": "[encoded data removed]",
      "text/plain": [
       "<Figure size 432x288 with 1 Axes>"
      ]
     },
     "metadata": {},
     "output_type": "display_data"
    }
   ],
   "source": [
    "simulate_experiment(5)"
   ]
  },
  {
   "cell_type": "code",
   "execution_count": null,
   "id": "b4e0a342-8f05-47a8-8824-e9a2f0382dc9",
   "metadata": {},
   "outputs": [],
   "source": []
  },
  {
   "cell_type": "code",
   "execution_count": null,
   "id": "4a56904f-de70-425f-b3ad-eaba40c0e41d",
   "metadata": {},
   "outputs": [],
   "source": []
  },
  {
   "cell_type": "code",
   "execution_count": null,
   "id": "de24f6b4-e89f-4938-95e2-65df53c92dfd",
   "metadata": {},
   "outputs": [],
   "source": []
  },
  {
   "cell_type": "code",
   "execution_count": null,
   "id": "7d908a4d-f090-461f-97a8-07458fac4657",
   "metadata": {},
   "outputs": [],
   "source": []
  }
 ],
 "metadata": {
  "kernelspec": {
   "display_name": "Python 3",
   "language": "python",
   "name": "python3"
  },
  "language_info": {
   "codemirror_mode": {
    "name": "ipython",
    "version": 3
   },
   "file_extension": ".py",
   "mimetype": "text/x-python",
   "name": "python",
   "nbconvert_exporter": "python",
   "pygments_lexer": "ipython3",
   "version": "3.9.5"
  },
  "toc-showmarkdowntxt": true
 },
 "nbformat": 4,
 "nbformat_minor": 5
}
